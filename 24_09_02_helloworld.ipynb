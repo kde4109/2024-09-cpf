{
  "nbformat": 4,
  "nbformat_minor": 0,
  "metadata": {
    "colab": {
      "provenance": []
    },
    "kernelspec": {
      "name": "python3",
      "display_name": "Python 3"
    },
    "language_info": {
      "name": "python"
    }
  },
  "cells": [
    {
      "cell_type": "code",
      "execution_count": null,
      "metadata": {
        "colab": {
          "base_uri": "https://localhost:8080/"
        },
        "id": "0ctLLLMaafVW",
        "outputId": "f72280d4-17ec-46fd-8be7-f301e51031a1"
      },
      "outputs": [
        {
          "output_type": "stream",
          "name": "stdout",
          "text": [
            "이번 학기는 열심히 해야겠다\n"
          ]
        }
      ],
      "source": [
        "print (\"이번 학기는 열심히 해야겠다\")"
      ]
    },
    {
      "cell_type": "code",
      "source": [],
      "metadata": {
        "id": "3U7iuA-Ranb6"
      },
      "execution_count": null,
      "outputs": []
    }
  ]
}